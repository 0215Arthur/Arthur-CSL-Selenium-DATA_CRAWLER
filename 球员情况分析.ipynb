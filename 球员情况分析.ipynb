{
 "cells": [
  {
   "cell_type": "markdown",
   "metadata": {},
   "source": [
    "## 2018球员场均状态爬取"
   ]
  },
  {
   "cell_type": "code",
   "execution_count": 24,
   "metadata": {},
   "outputs": [
    {
     "ename": "UnicodeEncodeError",
     "evalue": "'gbk' codec can't encode character '\\u4dae' in position 52: illegal multibyte sequence",
     "output_type": "error",
     "traceback": [
      "\u001b[1;31m---------------------------------------------------------------------------\u001b[0m",
      "\u001b[1;31mUnicodeEncodeError\u001b[0m                        Traceback (most recent call last)",
      "\u001b[1;32m<ipython-input-24-67efe6c9d7dd>\u001b[0m in \u001b[0;36m<module>\u001b[1;34m()\u001b[0m\n\u001b[0;32m     71\u001b[0m \u001b[0mservice\u001b[0m \u001b[1;33m=\u001b[0m \u001b[0mService\u001b[0m\u001b[1;33m(\u001b[0m\u001b[1;33m)\u001b[0m\u001b[1;33m\u001b[0m\u001b[0m\n\u001b[0;32m     72\u001b[0m \u001b[1;32mtry\u001b[0m\u001b[1;33m:\u001b[0m\u001b[1;33m\u001b[0m\u001b[0m\n\u001b[1;32m---> 73\u001b[1;33m     \u001b[0mservice\u001b[0m\u001b[1;33m.\u001b[0m\u001b[0mselect\u001b[0m\u001b[1;33m(\u001b[0m\u001b[1;34m\"one3\"\u001b[0m\u001b[1;33m)\u001b[0m\u001b[1;33m\u001b[0m\u001b[0m\n\u001b[0m\u001b[0;32m     74\u001b[0m \u001b[1;32mfinally\u001b[0m\u001b[1;33m:\u001b[0m\u001b[1;33m\u001b[0m\u001b[0m\n\u001b[0;32m     75\u001b[0m     \u001b[0mservice\u001b[0m\u001b[1;33m.\u001b[0m\u001b[0mshutdown\u001b[0m\u001b[1;33m(\u001b[0m\u001b[1;33m)\u001b[0m\u001b[1;33m\u001b[0m\u001b[0m\n",
      "\u001b[1;32m<ipython-input-24-67efe6c9d7dd>\u001b[0m in \u001b[0;36mselect\u001b[1;34m(self, eb)\u001b[0m\n\u001b[0;32m     62\u001b[0m         \u001b[0mtime\u001b[0m\u001b[1;33m.\u001b[0m\u001b[0msleep\u001b[0m\u001b[1;33m(\u001b[0m\u001b[1;36m10\u001b[0m\u001b[1;33m)\u001b[0m\u001b[1;33m\u001b[0m\u001b[0m\n\u001b[0;32m     63\u001b[0m \u001b[1;33m\u001b[0m\u001b[0m\n\u001b[1;32m---> 64\u001b[1;33m         \u001b[0mself\u001b[0m\u001b[1;33m.\u001b[0m\u001b[0m_click\u001b[0m\u001b[1;33m(\u001b[0m\u001b[1;33m)\u001b[0m\u001b[1;33m\u001b[0m\u001b[0m\n\u001b[0m\u001b[0;32m     65\u001b[0m \u001b[1;33m\u001b[0m\u001b[0m\n\u001b[0;32m     66\u001b[0m         \u001b[1;31m#print(input_first.text)\u001b[0m\u001b[1;33m\u001b[0m\u001b[1;33m\u001b[0m\u001b[0m\n",
      "\u001b[1;32m<ipython-input-24-67efe6c9d7dd>\u001b[0m in \u001b[0;36m_click\u001b[1;34m(self)\u001b[0m\n\u001b[0;32m     33\u001b[0m             \u001b[0mtime\u001b[0m\u001b[1;33m.\u001b[0m\u001b[0msleep\u001b[0m\u001b[1;33m(\u001b[0m\u001b[1;36m2\u001b[0m\u001b[1;33m)\u001b[0m\u001b[1;33m\u001b[0m\u001b[0m\n\u001b[0;32m     34\u001b[0m             \u001b[1;31m#print(run.text)\u001b[0m\u001b[1;33m\u001b[0m\u001b[1;33m\u001b[0m\u001b[0m\n\u001b[1;32m---> 35\u001b[1;33m             \u001b[0mDownLoad\u001b[0m\u001b[1;33m(\u001b[0m\u001b[0mrun\u001b[0m\u001b[1;33m.\u001b[0m\u001b[0mtext\u001b[0m\u001b[1;33m)\u001b[0m\u001b[1;33m\u001b[0m\u001b[0m\n\u001b[0m\u001b[0;32m     36\u001b[0m             \u001b[0mrun\u001b[0m\u001b[1;33m=\u001b[0m\u001b[0mself\u001b[0m\u001b[1;33m.\u001b[0m\u001b[0mbrowser\u001b[0m\u001b[1;33m.\u001b[0m\u001b[0mfind_element\u001b[0m\u001b[1;33m(\u001b[0m\u001b[0mBy\u001b[0m\u001b[1;33m.\u001b[0m\u001b[0mID\u001b[0m\u001b[1;33m,\u001b[0m\u001b[1;34m\"tab1\"\u001b[0m\u001b[1;33m)\u001b[0m\u001b[1;33m\u001b[0m\u001b[0m\n\u001b[0;32m     37\u001b[0m             \u001b[1;31m#run=self.browser.find_element_by_class_name(\"tab1\")\u001b[0m\u001b[1;33m\u001b[0m\u001b[1;33m\u001b[0m\u001b[0m\n",
      "\u001b[1;32m<ipython-input-24-67efe6c9d7dd>\u001b[0m in \u001b[0;36mDownLoad\u001b[1;34m(txt)\u001b[0m\n\u001b[0;32m      8\u001b[0m \u001b[1;32mdef\u001b[0m \u001b[0mDownLoad\u001b[0m\u001b[1;33m(\u001b[0m\u001b[0mtxt\u001b[0m\u001b[1;33m)\u001b[0m\u001b[1;33m:\u001b[0m\u001b[1;33m\u001b[0m\u001b[0m\n\u001b[0;32m      9\u001b[0m     \u001b[0mfile\u001b[0m\u001b[1;33m=\u001b[0m\u001b[0mopen\u001b[0m\u001b[1;33m(\u001b[0m\u001b[1;34m\"player//for_control_2018.txt\"\u001b[0m\u001b[1;33m,\u001b[0m\u001b[1;34m'a+'\u001b[0m\u001b[1;33m)\u001b[0m\u001b[1;33m\u001b[0m\u001b[0m\n\u001b[1;32m---> 10\u001b[1;33m     \u001b[0mfile\u001b[0m\u001b[1;33m.\u001b[0m\u001b[0mwrite\u001b[0m\u001b[1;33m(\u001b[0m\u001b[0mtxt\u001b[0m\u001b[1;33m)\u001b[0m\u001b[1;33m\u001b[0m\u001b[0m\n\u001b[0m\u001b[0;32m     11\u001b[0m     \u001b[0mfile\u001b[0m\u001b[1;33m.\u001b[0m\u001b[0mwrite\u001b[0m\u001b[1;33m(\u001b[0m\u001b[1;34m'\\n'\u001b[0m\u001b[1;33m)\u001b[0m\u001b[1;33m\u001b[0m\u001b[0m\n\u001b[0;32m     12\u001b[0m     \u001b[0mfile\u001b[0m\u001b[1;33m.\u001b[0m\u001b[0mclose\u001b[0m\u001b[1;33m(\u001b[0m\u001b[1;33m)\u001b[0m\u001b[1;33m\u001b[0m\u001b[0m\n",
      "\u001b[1;31mUnicodeEncodeError\u001b[0m: 'gbk' codec can't encode character '\\u4dae' in position 52: illegal multibyte sequence"
     ]
    }
   ],
   "source": [
    "from selenium import webdriver    \n",
    "from selenium.webdriver.common.by import By\n",
    "from selenium.webdriver.support.ui import WebDriverWait\n",
    "from selenium.webdriver.support import expected_conditions as EC\n",
    "import time\n",
    "import pyquery\n",
    "\n",
    "def DownLoad(txt):\n",
    "    file=open(\"player//for_control_2018.txt\",'a+')\n",
    "    file.write(txt)\n",
    "    file.write('\\n')\n",
    "    file.close()   \n",
    "\n",
    "class Service(object):\n",
    "    def __init__(self):\n",
    "        #self.browser =webdriver.PhantomJS(service_args=['--ignore-ssl-errors=true ','--ssl-protocol=SSLv3 ','-–webdriver-selenium-grid-hub URL to the Selenium Grid HUB: ‘URLTOHUB’'],executable_path=r'D:\\Program Files\\phantomjs-2.1.1-windows\\bin\\phantomjs.exe',port=62000)\n",
    "        self.browser =webdriver.PhantomJS(service_args=['--load-images=false'])\n",
    "        self.browser.get(\"http://data.champdas.com/person/rank-1-2018.html\")\n",
    "    \n",
    "        #print(input_first.text)\n",
    "        #content = self.browser.page_source \n",
    "        ### 数据类型  表单号 t  开始轮次sb 结束轮次 eb 第几轮\n",
    "    def _click(self):\n",
    "        ###选择数据类型\n",
    "        #self.browser.implicitly_wait(10) \n",
    "        t=0\n",
    "        while True:\n",
    "            \n",
    "            #self.browser.implicitly_wait(3) \n",
    "            wait = WebDriverWait(self.browser, 5)\n",
    "            inputs = wait.until(EC.presence_of_element_located((By.ID, 'table4')))\n",
    "            run=self.browser.find_element(By.ID,\"table4\")\n",
    "            time.sleep(2)\n",
    "            #print(run.text)\n",
    "            DownLoad(run.text)\n",
    "            run=self.browser.find_element(By.ID,\"tab1\")\n",
    "            #run=self.browser.find_element_by_class_name(\"tab1\")\n",
    "            #time.sleep(2)\n",
    "            run.find_element_by_link_text(\"下一页\").click()\n",
    "            time.sleep(2)\n",
    "            t+=1\n",
    "            if t>28:\n",
    "                break\n",
    "#             wait = WebDriverWait(self.browser, 10)\n",
    "#             inputs = wait.until(EC.presence_of_element_located((By.ID, 'table2')))\n",
    "#             run=self.browser.find_element(By.ID,\"table2\")\n",
    "#             print(run.text)\n",
    "#             wait = WebDriverWait(self.browser, 10)\n",
    "#             input = wait.until(EC.presence_of_element_located((By.ID, 'hotTable')))\n",
    "#             self.get_car_price()\n",
    "#             #item.get_attribute(\"class\")\n",
    "#             self.browser.find_element_by_link_text(times)\n",
    "            \n",
    "           \n",
    "\n",
    "        \n",
    "    def select(self,eb):\n",
    "        #self.browser.get(car_url)\n",
    "        time.sleep(10)\n",
    "        test=self.browser.find_element(By.ID,eb)\n",
    "        test.click()\n",
    "        time.sleep(10)\n",
    "        \n",
    "        self._click()\n",
    "        \n",
    "        #print(input_first.text)\n",
    "        \n",
    "    def shutdown(self):\n",
    "        self.browser.quit() \n",
    "\n",
    "service = Service()\n",
    "try:\n",
    "    service._click()\n",
    "finally:\n",
    "    service.shutdown()"
   ]
  },
  {
   "cell_type": "markdown",
   "metadata": {},
   "source": [
    "## 数据整理"
   ]
  },
  {
   "cell_type": "code",
   "execution_count": 30,
   "metadata": {
    "collapsed": true
   },
   "outputs": [],
   "source": [
    "ifp=open(\"player//for_denfe_2018.txt\",'r')\n",
    "op=open(\"player//pl_denfe_2018.txt\",'w')\n",
    "num=0\n",
    "data=\"\"\n",
    "for line in ifp.readlines():\n",
    "    line=line.strip()\n",
    "    pl=line.split()\n",
    "    if pl[0]==\"排名\":\n",
    "        num=0\n",
    "        continue\n",
    "    else:\n",
    "        num+=1\n",
    "        data+=\" \"\n",
    "        data+=line\n",
    "        if num%4==0:\n",
    "            \n",
    "            op.write(data)\n",
    "            op.write(\"\\n\")\n",
    "            data=\"\"\n",
    "        \n",
    "            \n",
    "        \n",
    "        \n",
    "        \n",
    "ifp.close()\n",
    "op.close()"
   ]
  }
 ],
 "metadata": {
  "kernelspec": {
   "display_name": "Python 3",
   "language": "python",
   "name": "python3"
  },
  "language_info": {
   "codemirror_mode": {
    "name": "ipython",
    "version": 3
   },
   "file_extension": ".py",
   "mimetype": "text/x-python",
   "name": "python",
   "nbconvert_exporter": "python",
   "pygments_lexer": "ipython3",
   "version": "3.6.1"
  }
 },
 "nbformat": 4,
 "nbformat_minor": 2
}
